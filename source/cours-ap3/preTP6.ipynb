{
 "cells": [
  {
   "cell_type": "markdown",
   "metadata": {},
   "source": [
    "# Exercices avant le TP 6"
   ]
  },
  {
   "cell_type": "markdown",
   "metadata": {},
   "source": [
    "## Utilisation de l'objet ``Queue``"
   ]
  },
  {
   "cell_type": "markdown",
   "metadata": {},
   "source": [
    "Nous avons vu en cours le parcours en profondeur d'un graphe. En TP cette fois-ci nous ferons un parcours en largeur, pour lequel nous remplacerons la pile (implémentée par une liste) par une file. Nous pourrions aussi l'implémenter à la main, mais nous allons ici utiliser l'obet ``queue`` de Python. Le but de cette première section est de se familiariser avec ce dernier. L'exécution des cellules ci-dessous doit déjà vous donner une idée de son fonctionnement."
   ]
  },
  {
   "cell_type": "code",
   "execution_count": 3,
   "metadata": {},
   "outputs": [],
   "source": [
    "from queue import Queue # import du module Queue"
   ]
  },
  {
   "cell_type": "code",
   "execution_count": 9,
   "metadata": {},
   "outputs": [
    {
     "name": "stdout",
     "output_type": "stream",
     "text": [
      "False\n",
      "1\n",
      "2\n",
      "3\n"
     ]
    }
   ],
   "source": [
    "file = Queue() # création d'un objet Queue vide\n",
    "\n",
    "file.put(1) # ajout de 1\n",
    "file.put(2) # ajout de 2\n",
    "file.put(3) # ajout de 3\n",
    "print(file.empty()) # teste si notre file est vide\n",
    "while not file.empty():\n",
    "  print(file.get())"
   ]
  },
  {
   "cell_type": "markdown",
   "metadata": {},
   "source": [
    "Vous avez dû remarquer que si on a d'abord mis 1, puis 2, puis 3, quand on retire des élements on obtient d'abord 1, puis 2, puis 3. C'est ce comportement de file d'attente (FIFO, first-in-first-out) qui nous intéresse."
   ]
  },
  {
   "cell_type": "markdown",
   "metadata": {},
   "source": [
    "Écrire une fonction qui, sur la donnée d'un entier `n`, renvoie une file contenant d'abord les entiers naturels impairs plus petits que `n` dans l'ordre croissant, puis les entiers naturels pairs plus petits que `n`, toujours dans l'ordre croissant. Testez votre programme en faisant imprimer une par une les valeurs dans la file. Par exemple, sur l'entrée `7`, votre programme imprimera `1,3,5,0,2,4,6`."
   ]
  },
  {
   "cell_type": "code",
   "execution_count": 10,
   "metadata": {},
   "outputs": [],
   "source": [
    "def pairImpair(n):\n",
    "    file = Queue()\n",
    "    for i in range(1, n, 2):\n",
    "        file.put(i)\n",
    "    for i in range(0, n, 2):\n",
    "        file.put(i)\n",
    "    return file    "
   ]
  },
  {
   "cell_type": "code",
   "execution_count": 11,
   "metadata": {},
   "outputs": [
    {
     "name": "stdout",
     "output_type": "stream",
     "text": [
      "1\n",
      "3\n",
      "5\n",
      "0\n",
      "2\n",
      "4\n",
      "6\n"
     ]
    }
   ],
   "source": [
    "file = pairImpair(7)\n",
    "while not file.empty():\n",
    "  print(file.get())"
   ]
  },
  {
   "cell_type": "markdown",
   "metadata": {},
   "source": [
    "## Lecture d'un fichier"
   ]
  },
  {
   "cell_type": "markdown",
   "metadata": {},
   "source": [
    "Dans ce TP, nous allons explorer des labyrinthes. Ceux-ci seront donnés sous la forme de fichiers. Pour pouvoir les utiliser dans un programme Python, nous allons utiliser des fonctions de base d'ouverture et lecture de fichier. Pour simplifier les choses, nous allons travailler avec des fichiers stockés dans le même dossier que votre programme Python. Commencez par créer un fichier texte `essai.txt` contenant les trois lignes: 123, 456 et 789. Ensuite exécutez le programme ci-dessous."
   ]
  },
  {
   "cell_type": "code",
   "execution_count": 53,
   "metadata": {},
   "outputs": [],
   "source": [
    "def afficheFichier(monfichier):\n",
    "    f = open(monfichier, \"r+\") # ouverture du fichier\n",
    "    for line in f : # nous pouvons parcourir l'objet obtenu ligne par ligne\n",
    "        print (line,  type ( line ) , len ( line )) # imprimer la ligne, son type, sa longueur\n",
    "    f.close() # fermeture du fichier"
   ]
  },
  {
   "cell_type": "code",
   "execution_count": 52,
   "metadata": {},
   "outputs": [
    {
     "name": "stdout",
     "output_type": "stream",
     "text": [
      "123\n",
      " <class 'str'> 4\n",
      "456\n",
      " <class 'str'> 4\n",
      "789\n",
      " <class 'str'> 4\n"
     ]
    }
   ],
   "source": [
    "afficheFichier('essai.txt')"
   ]
  },
  {
   "cell_type": "markdown",
   "metadata": {},
   "source": [
    "Au lieu d'imprimer chaque ligne nous pouvons agir dessus. Ce qui nous intéressera ici sera de transformer un fichier texte en une liste de liste."
   ]
  },
  {
   "cell_type": "markdown",
   "metadata": {},
   "source": [
    "Commençons par le cas d'une ligne, qui est une chaîne de caractères. Écrire une fonction `chaineListe` qui prend en entrée une chaîne de caractères et renvoie la liste des caractères. Par exemple, sur l'entrée `'123'`, votre fonction doit renvoyer `['1', '2', '3']`."
   ]
  },
  {
   "cell_type": "code",
   "execution_count": 22,
   "metadata": {},
   "outputs": [],
   "source": [
    "def chaineListe(s):\n",
    "    r = []\n",
    "    for c in s:\n",
    "        r.append(c)\n",
    "    return r"
   ]
  },
  {
   "cell_type": "code",
   "execution_count": 23,
   "metadata": {},
   "outputs": [
    {
     "data": {
      "text/plain": [
       "['1', '2', '3']"
      ]
     },
     "execution_count": 23,
     "metadata": {},
     "output_type": "execute_result"
    }
   ],
   "source": [
    "chaineListe('123')"
   ]
  },
  {
   "cell_type": "markdown",
   "metadata": {},
   "source": [
    "Écrire maintenant une fonction fichierListe qui prend en entrée un nom de fichier et renvoie une liste dont le k-ième élément est la liste obtenue à partir de la k-ième ligne du fichier. Si vous appliquer votre fonction au fichier `essai.txt`, vous devez obtenir `[['1', '2', '3', '\\n'], ['4', '5', '6', '\\n'], ['7', '8', '9', '\\n']]`. Remarquons que chaque ligne du fichier contient le caractère de retour à la ligne. "
   ]
  },
  {
   "cell_type": "code",
   "execution_count": 28,
   "metadata": {},
   "outputs": [],
   "source": [
    "def fichierListe(monfichier):\n",
    "    f = open(monfichier, \"r+\")\n",
    "    r = []\n",
    "    for line in f : \n",
    "        r.append(chaineListe(line))\n",
    "    f.close()\n",
    "    return r"
   ]
  },
  {
   "cell_type": "code",
   "execution_count": 29,
   "metadata": {},
   "outputs": [
    {
     "data": {
      "text/plain": [
       "[['1', '2', '3', '\\n'], ['4', '5', '6', '\\n'], ['7', '8', '9', '\\n']]"
      ]
     },
     "execution_count": 29,
     "metadata": {},
     "output_type": "execute_result"
    }
   ],
   "source": [
    "fichierListe('essai.txt')"
   ]
  },
  {
   "cell_type": "markdown",
   "metadata": {},
   "source": [
    "## Écriture d'un fichier"
   ]
  },
  {
   "cell_type": "markdown",
   "metadata": {},
   "source": [
    "Pour écrire un fichier on va utiliser la commande `f = open(\"essai2.txt\",\"w+\")`, qui crée le fichier s'il n'existe pas et nous donne un objet `f` dans lequel on pourra écrire. Écire un programme qui crée un fichier `essai2.txt`  dont la première ligne est `1`, la deuxième `2` et ainsi de suite jusqu'à `10`."
   ]
  },
  {
   "cell_type": "code",
   "execution_count": 83,
   "metadata": {},
   "outputs": [],
   "source": [
    "f = open(\"essai2.txt\",\"w+\")\n",
    "\n",
    "for i in range(1, 11):\n",
    "     f.write(str(i) + '\\n')\n",
    "        \n",
    "f.close()"
   ]
  }
 ],
 "metadata": {
  "kernelspec": {
   "display_name": "Python 3 (ipykernel)",
   "language": "python",
   "name": "python3"
  },
  "language_info": {
   "codemirror_mode": {
    "name": "ipython",
    "version": 3
   },
   "file_extension": ".py",
   "mimetype": "text/x-python",
   "name": "python",
   "nbconvert_exporter": "python",
   "pygments_lexer": "ipython3",
   "version": "3.10.4"
  }
 },
 "nbformat": 4,
 "nbformat_minor": 4
}
