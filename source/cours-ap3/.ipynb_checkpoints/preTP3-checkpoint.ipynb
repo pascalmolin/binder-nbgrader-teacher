{
 "cells": [
  {
   "cell_type": "markdown",
   "metadata": {},
   "source": [
    "# Exercices avant le TP 3"
   ]
  },
  {
   "cell_type": "markdown",
   "metadata": {},
   "source": [
    "## Manipulation récursive des listes"
   ]
  },
  {
   "cell_type": "markdown",
   "metadata": {},
   "source": [
    "Nous allons nous entraîner à utiliser la récursion en l'appliquant aux listes. On peut voir une liste comme étant:\n",
    "- soit vide: `[]`;\n",
    "- soit constituée d'un premier élément et du reste de la liste. \n",
    "\n",
    "La fonction définie ci-dessous calcule la même chose que la fonction `len` mais de manière récursive. Elle fait cela en suivant les possibilités ci-dessus:\n",
    "- pour une liste vide, la longueur est `0`;\n",
    "- pour une liste avec un premier élément puis le reste, la longueur est `1` de plus que la longueur du reste (appel récursif)."
   ]
  },
  {
   "cell_type": "code",
   "execution_count": 5,
   "metadata": {},
   "outputs": [],
   "source": [
    "def rLen(L):\n",
    "    if L == []: return 0\n",
    "    return 1 + rLen(L[1:])"
   ]
  },
  {
   "cell_type": "code",
   "execution_count": 3,
   "metadata": {},
   "outputs": [
    {
     "data": {
      "text/plain": [
       "0"
      ]
     },
     "execution_count": 3,
     "metadata": {},
     "output_type": "execute_result"
    }
   ],
   "source": [
    "rLen([])"
   ]
  },
  {
   "cell_type": "code",
   "execution_count": 6,
   "metadata": {},
   "outputs": [
    {
     "data": {
      "text/plain": [
       "4"
      ]
     },
     "execution_count": 6,
     "metadata": {},
     "output_type": "execute_result"
    }
   ],
   "source": [
    "rLen([1, 2, 3, 4])"
   ]
  },
  {
   "cell_type": "markdown",
   "metadata": {},
   "source": [
    "Écrire une fonction `sommeListe` qui calcule la somme des éléments d'une liste de nombres."
   ]
  },
  {
   "cell_type": "code",
   "execution_count": 3,
   "metadata": {
    "nbgrader": {
     "grade": false,
     "grade_id": "cell-3e5ce4133aef97de",
     "locked": false,
     "schema_version": 3,
     "solution": true,
     "task": false
    },
    "tags": []
   },
   "outputs": [],
   "source": [
    "def sommeListe(L):\n",
    "    ### BEGIN SOLUTION\n",
    "    if L == []: return 0\n",
    "    return L[0] + sommeListe(L[1:])\n",
    "    ### END SOLUTION"
   ]
  },
  {
   "cell_type": "code",
   "execution_count": 4,
   "metadata": {
    "nbgrader": {
     "grade": true,
     "grade_id": "cell-afe0e5e60e5f070c",
     "locked": true,
     "points": 1,
     "schema_version": 3,
     "solution": false,
     "task": false
    },
    "tags": []
   },
   "outputs": [],
   "source": [
    "assert sommeListe([1, 2, 3, 4]) == 10"
   ]
  },
  {
   "cell_type": "markdown",
   "metadata": {},
   "source": [
    "## Analyse d'une fonction récursive"
   ]
  },
  {
   "cell_type": "markdown",
   "metadata": {},
   "source": [
    "On considère la fonction définie ci-dessous:"
   ]
  },
  {
   "cell_type": "code",
   "execution_count": 6,
   "metadata": {},
   "outputs": [],
   "source": [
    "def f(a, b) :\n",
    "    \"\"\" a et b sont deux entiers naturels non-nuls \"\"\"\n",
    "    if b == 1 :\n",
    "        return a\n",
    "    return a + f(a, b-1)"
   ]
  },
  {
   "cell_type": "markdown",
   "metadata": {},
   "source": [
    "Sans utiliser l'ordinateur, trouver la valeur de `f(3, 5)`. Vous pouvez écrire sur un papier la suite des appels récursifs. Vérifier ensuite avec l'ordinateur."
   ]
  }
 ],
 "metadata": {
  "kernelspec": {
   "display_name": "Python 3 (ipykernel)",
   "language": "python",
   "name": "python3"
  },
  "language_info": {
   "codemirror_mode": {
    "name": "ipython",
    "version": 3
   },
   "file_extension": ".py",
   "mimetype": "text/x-python",
   "name": "python",
   "nbconvert_exporter": "python",
   "pygments_lexer": "ipython3",
   "version": "3.10.4"
  }
 },
 "nbformat": 4,
 "nbformat_minor": 4
}
