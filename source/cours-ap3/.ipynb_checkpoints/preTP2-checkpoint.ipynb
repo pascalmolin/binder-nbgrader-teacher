{
 "cells": [
  {
   "cell_type": "markdown",
   "metadata": {
    "nbgrader": {
     "grade": false,
     "grade_id": "cell-633f46f3ee293b1e",
     "locked": true,
     "schema_version": 3,
     "solution": false,
     "task": false
    },
    "tags": []
   },
   "source": [
    "# Exercices avant le TP 2"
   ]
  },
  {
   "cell_type": "markdown",
   "metadata": {
    "nbgrader": {
     "grade": false,
     "grade_id": "cell-9f68b8f72172a8db",
     "locked": true,
     "schema_version": 3,
     "solution": false,
     "task": false
    },
    "tags": []
   },
   "source": [
    "## Opérations sur les vecteurs"
   ]
  },
  {
   "cell_type": "markdown",
   "metadata": {
    "nbgrader": {
     "grade": false,
     "grade_id": "cell-08f80aaed7f62692",
     "locked": true,
     "schema_version": 3,
     "solution": false,
     "task": false
    },
    "tags": []
   },
   "source": [
    "Dans cette partie nous allons représenter les vecteurs par des listes Python. Commencer par écrire une fonction `nulVect` qui prend en entrée un entier `n` et p et retourne un vecteur de taille `n` dont toutes les entrées sont nulles. Par exemple, `nulVect(5)` doit renvoyer `[0, 0, 0, 0, 0]`.\n"
   ]
  },
  {
   "cell_type": "code",
   "execution_count": 1,
   "metadata": {
    "nbgrader": {
     "grade": false,
     "grade_id": "cell-cb835b75e081c37e",
     "locked": false,
     "schema_version": 3,
     "solution": true,
     "task": false
    },
    "tags": []
   },
   "outputs": [],
   "source": [
    "def nulVect(n):\n",
    "    \"\"\" la fonction doit renvoyer un vecteur formé de n zéros \"\"\"\n",
    "    ### BEGIN SOLUTION\n",
    "    return [0] * n\n",
    "    ### END SOLUTION"
   ]
  },
  {
   "cell_type": "code",
   "execution_count": 8,
   "metadata": {
    "nbgrader": {
     "grade": true,
     "grade_id": "cell-e5af3a4a41cbc3a5",
     "locked": true,
     "points": 5,
     "schema_version": 3,
     "solution": false,
     "task": false
    },
    "tags": []
   },
   "outputs": [],
   "source": [
    "\"\"\" on teste si la fonction marche \"\"\"\n",
    "assert nulVect(5) == [0, 0, 0, 0, 0]\n",
    "### BEGIN HIDDEN TESTS\n",
    "assert nulVect(1) == [0]\n",
    "assert nulVect(2) == [0, 0]\n",
    "assert nulVect(13) == [0, 0, 0, 0, 0, 0, 0, 0, 0, 0, 0, 0, 0]\n",
    "assert nulVect(0) == []\n",
    "### END HIDDEN TESTS"
   ]
  },
  {
   "cell_type": "markdown",
   "metadata": {
    "nbgrader": {
     "grade": false,
     "grade_id": "cell-225b770caa915d13",
     "locked": true,
     "schema_version": 3,
     "solution": false,
     "task": false
    },
    "tags": []
   },
   "source": [
    "Écrire une fonction `sommeVect` qui prend en entrée deux vecteurs de même longueur et renvoie leur somme. Par exemple, `sommeVect([1, 2, 3], [1, -1, 0])` doit renvoyer `[2, 1, 3]`."
   ]
  },
  {
   "cell_type": "code",
   "execution_count": 3,
   "metadata": {
    "nbgrader": {
     "grade": false,
     "grade_id": "cell-8df71566b73934bc",
     "locked": false,
     "schema_version": 3,
     "solution": true,
     "task": false
    },
    "tags": []
   },
   "outputs": [],
   "source": [
    "def sommeVect(u, v):\n",
    "    ### BEGIN SOLUTION\n",
    "    res = []\n",
    "    for i in range(len(u)):\n",
    "        res.append(u[i] + v[i])\n",
    "    return res\n",
    "    ### END SOLUTION"
   ]
  },
  {
   "cell_type": "code",
   "execution_count": 7,
   "metadata": {
    "nbgrader": {
     "grade": true,
     "grade_id": "cell-11838a2b189d7fee",
     "locked": true,
     "points": 5,
     "schema_version": 3,
     "solution": false,
     "task": false
    },
    "tags": []
   },
   "outputs": [],
   "source": [
    "\"\"\" on vérifie sur des cas simples \"\"\"\n",
    "assert sommeVect([1, 2, 3], [1, -1, 0]) == [2, 1, 3]\n",
    "### BEGIN HIDDEN TESTS\n",
    "from random import randint\n",
    "for n in range(5):\n",
    "    l = randint(1,12)\n",
    "    u = [ randint(-100,100) for _ in range(l) ]\n",
    "    v = [ randint(-100,100) for _ in range(l) ]\n",
    "    assert sommeVect(u, v) == [x+y for x,y in zip(u,v)]\n",
    "### END HIDDEN TESTS"
   ]
  },
  {
   "cell_type": "code",
   "execution_count": null,
   "metadata": {},
   "outputs": [],
   "source": []
  },
  {
   "cell_type": "code",
   "execution_count": null,
   "metadata": {},
   "outputs": [],
   "source": []
  }
 ],
 "metadata": {
  "kernelspec": {
   "display_name": "Python 3 (ipykernel)",
   "language": "python",
   "name": "python3"
  },
  "language_info": {
   "codemirror_mode": {
    "name": "ipython",
    "version": 3
   },
   "file_extension": ".py",
   "mimetype": "text/x-python",
   "name": "python",
   "nbconvert_exporter": "python",
   "pygments_lexer": "ipython3",
   "version": "3.10.4"
  }
 },
 "nbformat": 4,
 "nbformat_minor": 4
}
