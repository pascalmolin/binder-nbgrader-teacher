{
 "cells": [
  {
   "cell_type": "markdown",
   "metadata": {},
   "source": [
    "## Exercices avant le TP4"
   ]
  },
  {
   "cell_type": "markdown",
   "metadata": {},
   "source": [
    "## Génération de listes aléatoires"
   ]
  },
  {
   "cell_type": "markdown",
   "metadata": {},
   "source": [
    "Pour comparer les algorithmes de tri, nous aurons besoin de générer des listes aléatoires. Pour tirer un entier au hasard, nous pourrons utiliser la fonction `randint` de `random`, comme ci-dessous, qui renvoie un entier compris (au sens large) entre les deux bornes données."
   ]
  },
  {
   "cell_type": "code",
   "execution_count": 5,
   "metadata": {},
   "outputs": [
    {
     "data": {
      "text/plain": [
       "10"
      ]
     },
     "execution_count": 5,
     "metadata": {},
     "output_type": "execute_result"
    }
   ],
   "source": [
    "from random import randint\n",
    "randint(1,10)"
   ]
  },
  {
   "cell_type": "markdown",
   "metadata": {},
   "source": [
    "Écrire une fonction `randListe(n, a, b)` qui renvoie une liste de longueur `n` dont les valeurs ont été tirées au hasard dans l'intervalle d'entiers de `a` à `b`. Par exemple, `randListe(10, 1, 20)` pourrait retourner une liste comme `[7, 9, 10, 15, 20, 13, 11, 7, 13, 11]`."
   ]
  },
  {
   "cell_type": "code",
   "execution_count": 8,
   "metadata": {
    "nbgrader": {
     "grade": false,
     "grade_id": "cell-4e5e2cfdc152ca55",
     "locked": false,
     "schema_version": 3,
     "solution": true,
     "task": false
    },
    "tags": []
   },
   "outputs": [],
   "source": [
    "def randListe(n, a, b):\n",
    "    ### BEGIN SOLUTION\n",
    "    r = []\n",
    "    for i in range(n):\n",
    "        r.append(randint(a, b))\n",
    "    return r\n",
    "    ### END SOLUTION"
   ]
  },
  {
   "cell_type": "code",
   "execution_count": 9,
   "metadata": {},
   "outputs": [
    {
     "data": {
      "text/plain": [
       "[13, 16, 4, 19, 13, 2, 15, 13, 3, 15]"
      ]
     },
     "execution_count": 9,
     "metadata": {},
     "output_type": "execute_result"
    }
   ],
   "source": [
    "randListe(10, 1, 20)"
   ]
  },
  {
   "cell_type": "code",
   "execution_count": 12,
   "metadata": {},
   "outputs": [],
   "source": [
    "### BEGIN HIDDEN TESTS\n",
    "for (n,a,b) in  [(13,7,19), (1,3,3), (2,0,1), (12,6,123)]:\n",
    "    lnab = randListe(n,a,b)\n",
    "    assert len(lnab) == n\n",
    "    assert min(lnab) >= a\n",
    "    assert max(lnab) <= b\n",
    "### END HIDDEN TESTS"
   ]
  },
  {
   "cell_type": "markdown",
   "metadata": {},
   "source": [
    "## Mesure du temps d'exécution"
   ]
  },
  {
   "cell_type": "markdown",
   "metadata": {},
   "source": [
    "Pour mesurer le temps d'exécution, nous allons utiliser `perf_counter`. Ci-dessous, nous l'utilisons pour mesurer le temps nécessaire pour la création d'une liste aléatoire de longueur `100000`."
   ]
  },
  {
   "cell_type": "code",
   "execution_count": 5,
   "metadata": {},
   "outputs": [],
   "source": [
    "from time import perf_counter"
   ]
  },
  {
   "cell_type": "code",
   "execution_count": 7,
   "metadata": {},
   "outputs": [
    {
     "data": {
      "text/plain": [
       "0.06504144400059886"
      ]
     },
     "execution_count": 7,
     "metadata": {},
     "output_type": "execute_result"
    }
   ],
   "source": [
    "t0 = perf_counter()\n",
    "L = randListe(100000, 1, 10)\n",
    "t1 = perf_counter()\n",
    "t1 - t0"
   ]
  },
  {
   "cell_type": "markdown",
   "metadata": {},
   "source": [
    "Écrire une fonction `listeTemps(n)` qui va boucler `n` fois, à chaque fois créant une liste de nombres de longueur `100000`, mesurant le temps nécessaire pour *chaque* création, puis renverra la liste des `n` temps ainsi obtenus."
   ]
  },
  {
   "cell_type": "code",
   "execution_count": 8,
   "metadata": {},
   "outputs": [],
   "source": [
    "def listeTemps(n):\n",
    "    temps = []\n",
    "    for _ in range(n):\n",
    "        t0 = perf_counter()\n",
    "        L = randListe(100000, 1, 10)\n",
    "        t1 = perf_counter()\n",
    "        temps.append(t1 - t0)\n",
    "    return temps"
   ]
  },
  {
   "cell_type": "code",
   "execution_count": 9,
   "metadata": {},
   "outputs": [
    {
     "data": {
      "text/plain": [
       "[0.08356801099944278,\n",
       " 0.06295197699910204,\n",
       " 0.06380781400002888,\n",
       " 0.0600773330006632,\n",
       " 0.05613197499951639,\n",
       " 0.053227438000249094,\n",
       " 0.05103442600011476,\n",
       " 0.05103425200104539,\n",
       " 0.052901324999766075,\n",
       " 0.05143020300056378,\n",
       " 0.05086128199945961,\n",
       " 0.05286630199952924,\n",
       " 0.05073155600075552,\n",
       " 0.05586466299973836,\n",
       " 0.052107878000242636,\n",
       " 0.05120496499876026,\n",
       " 0.05086872100036999,\n",
       " 0.05050262700024177,\n",
       " 0.05278758100030245,\n",
       " 0.0520747440004925]"
      ]
     },
     "execution_count": 9,
     "metadata": {},
     "output_type": "execute_result"
    }
   ],
   "source": [
    "listeTemps(20)"
   ]
  },
  {
   "cell_type": "markdown",
   "metadata": {},
   "source": [
    "## Fusion de deux listes triées"
   ]
  },
  {
   "cell_type": "markdown",
   "metadata": {},
   "source": [
    "Implémenter le pseudo-code vu en cours pour la fusion de deux listes triées: définir une fonction `fusion(A, B)`. Par exemple, si `A = [1, 3, 4, 8, 12, 14, 19]` et `B = [2, 6, 9, 10, 11, 15, 20, 40]`, votre fonction doit renvoyer la liste `[1, 2, 3, 4, 6, 8, 9, 10, 11, 12, 14, 15, 19, 20, 40]`."
   ]
  },
  {
   "cell_type": "markdown",
   "metadata": {},
   "source": [
    "## Tri à bulles"
   ]
  },
  {
   "cell_type": "markdown",
   "metadata": {},
   "source": [
    "Implémenter le pseudo-code du cours pour le tri à bulles."
   ]
  }
 ],
 "metadata": {
  "kernelspec": {
   "display_name": "Python 3 (ipykernel)",
   "language": "python",
   "name": "python3"
  },
  "language_info": {
   "codemirror_mode": {
    "name": "ipython",
    "version": 3
   },
   "file_extension": ".py",
   "mimetype": "text/x-python",
   "name": "python",
   "nbconvert_exporter": "python",
   "pygments_lexer": "ipython3",
   "version": "3.10.4"
  }
 },
 "nbformat": 4,
 "nbformat_minor": 4
}
