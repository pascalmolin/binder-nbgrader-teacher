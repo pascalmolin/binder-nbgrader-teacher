{
 "cells": [
  {
   "cell_type": "markdown",
   "metadata": {},
   "source": [
    "## Exercices avant le TP4"
   ]
  },
  {
   "cell_type": "markdown",
   "metadata": {},
   "source": [
    "## Génération de listes aléatoires"
   ]
  },
  {
   "cell_type": "markdown",
   "metadata": {},
   "source": [
    "Pour comparer les algorithmes de tri, nous aurons besoin de générer des listes aléatoires. Pour tirer un entier au hasard, nous pourrons utiliser la fonction `randint` de `random`, comme ci-dessous, qui renvoie un entier compris (au sens large) entre les deux bornes données."
   ]
  },
  {
   "cell_type": "code",
   "execution_count": 13,
   "metadata": {
    "nbgrader": {
     "grade": false,
     "grade_id": "cell-d981b2b63821c9f1",
     "locked": true,
     "schema_version": 3,
     "solution": false,
     "task": false
    },
    "tags": []
   },
   "outputs": [
    {
     "data": {
      "text/plain": [
       "5"
      ]
     },
     "execution_count": 13,
     "metadata": {},
     "output_type": "execute_result"
    }
   ],
   "source": [
    "from random import randint\n",
    "randint(1,10)"
   ]
  },
  {
   "cell_type": "markdown",
   "metadata": {},
   "source": [
    "Écrire une fonction `randListe(n, a, b)` qui renvoie une liste de longueur `n` dont les valeurs ont été tirées au hasard dans l'intervalle d'entiers de `a` à `b`. Par exemple, `randListe(10, 1, 20)` pourrait retourner une liste comme `[7, 9, 10, 15, 20, 13, 11, 7, 13, 11]`."
   ]
  },
  {
   "cell_type": "code",
   "execution_count": 14,
   "metadata": {
    "nbgrader": {
     "grade": false,
     "grade_id": "cell-4e5e2cfdc152ca55",
     "locked": false,
     "schema_version": 3,
     "solution": true,
     "task": false
    },
    "tags": []
   },
   "outputs": [],
   "source": [
    "def randListe(n, a, b):\n",
    "    ### BEGIN SOLUTION\n",
    "    r = []\n",
    "    for i in range(n):\n",
    "        r.append(randint(a, b))\n",
    "    return r\n",
    "    ### END SOLUTION"
   ]
  },
  {
   "cell_type": "code",
   "execution_count": 15,
   "metadata": {},
   "outputs": [
    {
     "data": {
      "text/plain": [
       "[15, 4, 16, 3, 10, 5, 7, 3, 3, 1]"
      ]
     },
     "execution_count": 15,
     "metadata": {},
     "output_type": "execute_result"
    }
   ],
   "source": [
    "randListe(10, 1, 20)"
   ]
  },
  {
   "cell_type": "code",
   "execution_count": 16,
   "metadata": {
    "nbgrader": {
     "grade": true,
     "grade_id": "cell-38dc4a6cc23a3d70",
     "locked": true,
     "points": 2,
     "schema_version": 3,
     "solution": false,
     "task": false
    },
    "tags": []
   },
   "outputs": [],
   "source": [
    "### BEGIN HIDDEN TESTS\n",
    "for (n,a,b) in  [(13,7,19), (1,3,3), (2,0,1), (12,6,123)]:\n",
    "    lnab = randListe(n,a,b)\n",
    "    assert len(lnab) == n\n",
    "    assert min(lnab) >= a\n",
    "    assert max(lnab) <= b\n",
    "### END HIDDEN TESTS"
   ]
  },
  {
   "cell_type": "markdown",
   "metadata": {},
   "source": [
    "## Mesure du temps d'exécution"
   ]
  },
  {
   "cell_type": "markdown",
   "metadata": {},
   "source": [
    "Pour mesurer le temps d'exécution, nous allons utiliser `perf_counter`. Ci-dessous, nous l'utilisons pour mesurer le temps nécessaire pour la création d'une liste aléatoire de longueur `100000`."
   ]
  },
  {
   "cell_type": "code",
   "execution_count": 17,
   "metadata": {},
   "outputs": [],
   "source": [
    "from time import perf_counter"
   ]
  },
  {
   "cell_type": "code",
   "execution_count": 18,
   "metadata": {},
   "outputs": [
    {
     "data": {
      "text/plain": [
       "0.08004040003288537"
      ]
     },
     "execution_count": 18,
     "metadata": {},
     "output_type": "execute_result"
    }
   ],
   "source": [
    "t0 = perf_counter()\n",
    "L = randListe(100000, 1, 10)\n",
    "t1 = perf_counter()\n",
    "t1 - t0"
   ]
  },
  {
   "cell_type": "markdown",
   "metadata": {},
   "source": [
    "Écrire une fonction `listeTemps(n)` qui va boucler `n` fois, à chaque fois créant une liste de nombres de longueur `100000`, mesurant le temps nécessaire pour *chaque* création, puis renverra la liste des `n` temps ainsi obtenus."
   ]
  },
  {
   "cell_type": "code",
   "execution_count": 19,
   "metadata": {},
   "outputs": [],
   "source": [
    "def listeTemps(n):\n",
    "    temps = []\n",
    "    for _ in range(n):\n",
    "        t0 = perf_counter()\n",
    "        L = randListe(100000, 1, 10)\n",
    "        t1 = perf_counter()\n",
    "        temps.append(t1 - t0)\n",
    "    return temps"
   ]
  },
  {
   "cell_type": "code",
   "execution_count": 20,
   "metadata": {},
   "outputs": [
    {
     "data": {
      "text/plain": [
       "[0.0818862000014633,\n",
       " 0.07699830003548414,\n",
       " 0.06481950008310378,\n",
       " 0.056164100067690015,\n",
       " 0.05199569999240339,\n",
       " 0.05159029993228614,\n",
       " 0.05261629994492978,\n",
       " 0.052938199951313436,\n",
       " 0.05538270005490631,\n",
       " 0.05277329997625202,\n",
       " 0.05084299994632602,\n",
       " 0.05123199999798089,\n",
       " 0.05133299995213747,\n",
       " 0.05260019993875176,\n",
       " 0.06269019993487746,\n",
       " 0.05225760000757873,\n",
       " 0.051493900013156235,\n",
       " 0.05111699993722141,\n",
       " 0.051631500013172626,\n",
       " 0.051270099938847125]"
      ]
     },
     "execution_count": 20,
     "metadata": {},
     "output_type": "execute_result"
    }
   ],
   "source": [
    "listeTemps(20)"
   ]
  },
  {
   "cell_type": "markdown",
   "metadata": {},
   "source": [
    "## Fusion de deux listes triées"
   ]
  },
  {
   "cell_type": "markdown",
   "metadata": {},
   "source": [
    "Implémenter le pseudo-code vu en cours pour la fusion de deux listes triées: définir une fonction `fusion(A, B)`. Par exemple, si `A = [1, 3, 4, 8, 12, 14, 19]` et `B = [2, 6, 9, 10, 11, 15, 20, 40]`, votre fonction doit renvoyer la liste `[1, 2, 3, 4, 6, 8, 9, 10, 11, 12, 14, 15, 19, 20, 40]`."
   ]
  },
  {
   "cell_type": "markdown",
   "metadata": {},
   "source": [
    "## Tri à bulles"
   ]
  },
  {
   "cell_type": "markdown",
   "metadata": {},
   "source": [
    "Implémenter le pseudo-code du cours pour le tri à bulles."
   ]
  }
 ],
 "metadata": {
  "kernelspec": {
   "display_name": "Python 3 (ipykernel)",
   "language": "python",
   "name": "python3"
  },
  "language_info": {
   "codemirror_mode": {
    "name": "ipython",
    "version": 3
   },
   "file_extension": ".py",
   "mimetype": "text/x-python",
   "name": "python",
   "nbconvert_exporter": "python",
   "pygments_lexer": "ipython3",
   "version": "3.10.4"
  }
 },
 "nbformat": 4,
 "nbformat_minor": 4
}
